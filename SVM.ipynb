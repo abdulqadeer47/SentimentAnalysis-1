{
 "cells": [
  {
   "cell_type": "code",
   "execution_count": 62,
   "metadata": {},
   "outputs": [],
   "source": [
    "from sklearn.feature_extraction.text import CountVectorizer\n",
    "from sklearn.svm import LinearSVC\n",
    "from sklearn.metrics import accuracy_score\n",
    "from sklearn.model_selection import train_test_split\n",
    "import pandas as pd"
   ]
  },
  {
   "cell_type": "code",
   "execution_count": 63,
   "metadata": {},
   "outputs": [],
   "source": [
    "#importing data\n",
    "\n",
    "data = pd.read_csv('cleaned_data.csv')\n",
    "data.columns = ['Number','Sentiment','Tweet']\n",
    "\n",
    "train=data.sample(frac=0.8,random_state=50) #random state is a seed value\n",
    "test=data.drop(train.index)"
   ]
  },
  {
   "cell_type": "code",
   "execution_count": 64,
   "metadata": {},
   "outputs": [
    {
     "name": "stdout",
     "output_type": "stream",
     "text": [
      "noth special , headach .. plus , have a sore throat ca n't breath my nose .. ll fail i n't studi\n"
     ]
    }
   ],
   "source": [
    "# assigning data to respective lists\n",
    "\n",
    "Train_text = train['Tweet']\n",
    "Train_values = train['Sentiment']\n",
    "Test_text = test['Tweet']\n",
    "Test_values = test['Sentiment']\n",
    "\n",
    "print(Train_text[4])"
   ]
  },
  {
   "cell_type": "code",
   "execution_count": 65,
   "metadata": {},
   "outputs": [],
   "source": [
    "#CV with ngram range\n",
    "\n",
    "cv = CountVectorizer(binary=True, ngram_range= (1,3))\n",
    "cv.fit(Train_text.values.astype('U'))\n",
    "Train_text_vect = cv.transform(Train_text.values.astype('U'))\n",
    "Test_text_vect = cv.transform(Test_text.values.astype('U'))"
   ]
  },
  {
   "cell_type": "code",
   "execution_count": 66,
   "metadata": {},
   "outputs": [
    {
     "name": "stdout",
     "output_type": "stream",
     "text": [
      "0.7746875\n"
     ]
    }
   ],
   "source": [
    "svm = LinearSVC(C=0.01)\n",
    "svm.fit(Train_text_vect, Train_values)\n",
    "score = accuracy_score(Test_values, svm.predict(Test_text_vect))\n",
    "\n",
    "print(score)"
   ]
  },
  {
   "cell_type": "code",
   "execution_count": 67,
   "metadata": {},
   "outputs": [
    {
     "name": "stdout",
     "output_type": "stream",
     "text": [
      "('ca wait', 0.7344797616525091)\n",
      "('cant wait', 0.6007305896939183)\n",
      "('thank', 0.5802208534260184)\n",
      "('welcom', 0.5375725516292578)\n",
      "('smile', 0.47907670988746487)\n",
      "('sad', -0.9327505278332024)\n",
      "('miss', -0.7610039803119514)\n",
      "('poor', -0.715917073678386)\n",
      "('sick', -0.6585724304962519)\n",
      "('hurt', -0.6398541809019486)\n"
     ]
    }
   ],
   "source": [
    "feature_to_coef = {\n",
    "    word: coef for word, coef in zip(\n",
    "        cv.get_feature_names(), svm.coef_[0]\n",
    "    )\n",
    "}\n",
    "for best_positive in sorted(\n",
    "    feature_to_coef.items(), \n",
    "    key=lambda x: x[1], \n",
    "    reverse=True)[:5]:\n",
    "    print (best_positive)\n",
    "    \n",
    "    \n",
    "for best_negative in sorted(\n",
    "    feature_to_coef.items(), \n",
    "    key=lambda x: x[1])[:5]:\n",
    "    print (best_negative)"
   ]
  },
  {
   "cell_type": "code",
   "execution_count": 86,
   "metadata": {},
   "outputs": [],
   "source": [
    "#######################################################################\n",
    "###################### USING NLTK LIBRARY #############################\n",
    "#######################################################################\n",
    "from nltk.tokenize import word_tokenize\n",
    "from nltk.corpus import stopwords\n",
    "from nltk.stem.snowball import SnowballStemmer\n",
    "import pandas as pd\n",
    "\n",
    "def processText(text):\n",
    "\n",
    "    # make a list of words split with spaces\n",
    "    textList = text.split()\n",
    "\n",
    "    #convert all words to lower case\n",
    "    for i in range(len(textList)):\n",
    "        textList[i] = textList[i].lower()\n",
    "\n",
    "    #remove usernames, email addresses, websites and hastags\n",
    "    for t in textList:\n",
    "        if (deepClean(t)):\n",
    "            textList.remove(t)\n",
    "    text = ' '.join(textList)\n",
    "\n",
    "    #tokenize by words\n",
    "    words = word_tokenize(text)\n",
    "\n",
    "    #For each word in the list check if it is a stop word\n",
    "    for w in words:\n",
    "        if w in stopwords.words('english'):\n",
    "            words.remove(w)\n",
    "\n",
    "    #instance of a stemmer\n",
    "    stemmer = SnowballStemmer(\"english\")\n",
    "    stemWords = []\n",
    "\n",
    "\n",
    "    #iterate over all tokenized words to stem and store in list\n",
    "    for t in words:\n",
    "        stemWords.append(stemmer.stem(t))\n",
    "\n",
    "        #return the list of tokenized stem words of the text passed to the method\n",
    "    return stemWords\n",
    "\n",
    "\n",
    "# This method takes a single string word checks it against\n",
    "# a list of substrings to determine whether the word has \n",
    "# any useful information regarding the sentiment of the text.\n",
    "# returns True if word is an email address, username, hashtag or \n",
    "# website else returns False.\n",
    "def deepClean(word):\n",
    "\n",
    "    # List of substrings to check if present in the word:\n",
    "    # '@',\".edu\", \".com\" may represent usernames and email addresses \n",
    "    # '#' represents hastags for social media \n",
    "    # 'www.', \"https://\", \".edu\", \".com\" may represent websites\n",
    "    cleaners = [\"@\", \"#\", \"www.\", \"Www.\", \"https://\", \"Https://\" ,  \".edu\", \".com\"]\n",
    "\n",
    "    #check each subtring if contained in word\n",
    "    for c in cleaners:\n",
    "        #if word contains substring return True\n",
    "        if c in word:\n",
    "            return True\n",
    "\n",
    "    #else return False\n",
    "    return False"
   ]
  },
  {
   "cell_type": "code",
   "execution_count": 88,
   "metadata": {},
   "outputs": [
    {
     "name": "stdout",
     "output_type": "stream",
     "text": [
      "['hello']\n",
      "hello \n",
      "[1]\n"
     ]
    }
   ],
   "source": [
    "inputp = 'HELLo'\n",
    "inputpp = processText(inputp)\n",
    "print(inputpp)\n",
    "string_text = \"\"\n",
    "for i in range(len(inputpp)):\n",
    "    string_text = string_text + inputpp[i] + \" \"\n",
    "print(string_text)\n",
    "input_text = [string_text]\n",
    "input_text_vect = cv.transform(input_text)\n",
    "pos_prob = svm.predict(input_text_vect)\n",
    "print(pos_prob)"
   ]
  },
  {
   "cell_type": "code",
   "execution_count": null,
   "metadata": {},
   "outputs": [],
   "source": []
  },
  {
   "cell_type": "code",
   "execution_count": null,
   "metadata": {},
   "outputs": [],
   "source": []
  },
  {
   "cell_type": "code",
   "execution_count": null,
   "metadata": {},
   "outputs": [],
   "source": []
  },
  {
   "cell_type": "code",
   "execution_count": null,
   "metadata": {},
   "outputs": [],
   "source": []
  }
 ],
 "metadata": {
  "kernelspec": {
   "display_name": "Python 3",
   "language": "python",
   "name": "python3"
  },
  "language_info": {
   "codemirror_mode": {
    "name": "ipython",
    "version": 3
   },
   "file_extension": ".py",
   "mimetype": "text/x-python",
   "name": "python",
   "nbconvert_exporter": "python",
   "pygments_lexer": "ipython3",
   "version": "3.7.2"
  }
 },
 "nbformat": 4,
 "nbformat_minor": 4
}
