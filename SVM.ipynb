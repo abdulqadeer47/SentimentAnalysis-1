{
 "cells": [
  {
   "cell_type": "code",
   "execution_count": 2,
   "metadata": {},
   "outputs": [],
   "source": [
    "from sklearn.feature_extraction.text import CountVectorizer\n",
    "from sklearn.svm import LinearSVC\n",
    "from sklearn.metrics import accuracy_score\n",
    "from sklearn.model_selection import train_test_split\n",
    "import pandas as pd\n",
    "from sklearn.feature_extraction.text import TfidfVectorizer\n",
    "import pickle\n",
    "import os"
   ]
  },
  {
   "cell_type": "code",
   "execution_count": 3,
   "metadata": {},
   "outputs": [],
   "source": [
    "#importing data\n",
    "\n",
    "data = pd.read_csv('cleaned_data.csv')\n",
    "data.columns = ['Number','Sentiment','Tweet']\n",
    "\n",
    "train=data.sample(frac=0.8,random_state=50) #random state is a seed value\n",
    "test=data.drop(train.index)"
   ]
  },
  {
   "cell_type": "code",
   "execution_count": 4,
   "metadata": {},
   "outputs": [
    {
     "name": "stdout",
     "output_type": "stream",
     "text": [
      "noth special , just a headach .. plu , i have a sore throat and ca n't breath through my nose .. i 'll fail if i do n't studi\n"
     ]
    }
   ],
   "source": [
    "# assigning data to respective lists\n",
    "\n",
    "Train_text = train['Tweet']\n",
    "Train_values = train['Sentiment']\n",
    "Test_text = test['Tweet']\n",
    "Test_values = test['Sentiment']\n",
    "\n",
    "print(Train_text[4])"
   ]
  },
  {
   "cell_type": "code",
   "execution_count": 6,
   "metadata": {},
   "outputs": [],
   "source": [
    "#CV with ngram range\n",
    "\n",
    "cv = CountVectorizer(binary=True, ngram_range= (1,2))\n",
    "cv.fit(Train_text.values.astype('U'))\n",
    "Train_text_vect = cv.transform(Train_text.values.astype('U'))\n",
    "Test_text_vect = cv.transform(Test_text.values.astype('U'))\n",
    "\n",
    "# tfidf = TfidfVectorizer(ngram_range = (1,3),min_df = 2)\n",
    "# tfidf.fit(Train_text.values.astype('U'))\n",
    "# Train_text_vect = tfidf.transform(Train_text.values.astype('U'))\n",
    "# Test_text_vect = tfidf.transform(Test_text.values.astype('U'))"
   ]
  },
  {
   "cell_type": "code",
   "execution_count": 7,
   "metadata": {},
   "outputs": [
    {
     "name": "stdout",
     "output_type": "stream",
     "text": [
      "0.8068625\n"
     ]
    }
   ],
   "source": [
    "svm = LinearSVC(C=0.01)\n",
    "svm.fit(Train_text_vect, Train_values)\n",
    "score = accuracy_score(Test_values, svm.predict(Test_text_vect))\n",
    "\n",
    "print(score)"
   ]
  },
  {
   "cell_type": "code",
   "execution_count": 8,
   "metadata": {},
   "outputs": [
    {
     "name": "stdout",
     "output_type": "stream",
     "text": [
      "('no problem', 0.8830362173731378)\n",
      "('ca wait', 0.7997943353310095)\n",
      "('no worri', 0.7252975605831302)\n",
      "('cant wait', 0.6985937852584186)\n",
      "('not bad', 0.6809375654726316)\n",
      "('sad', -0.9193493174458705)\n",
      "('poor', -0.8277723019133335)\n",
      "('miss', -0.7764348137261518)\n",
      "('headach', -0.7625755107776224)\n",
      "('not happi', -0.7601244472698924)\n"
     ]
    }
   ],
   "source": [
    "feature_to_coef = {\n",
    "    word: coef for word, coef in zip(\n",
    "        cv.get_feature_names(), svm.coef_[0]\n",
    "    )\n",
    "}\n",
    "for best_positive in sorted(\n",
    "    feature_to_coef.items(), \n",
    "    key=lambda x: x[1], \n",
    "    reverse=True)[:5]:\n",
    "    print (best_positive)\n",
    "    \n",
    "    \n",
    "for best_negative in sorted(\n",
    "    feature_to_coef.items(), \n",
    "    key=lambda x: x[1])[:5]:\n",
    "    print (best_negative)"
   ]
  },
  {
   "cell_type": "code",
   "execution_count": 9,
   "metadata": {},
   "outputs": [],
   "source": [
    "#######################################################################\n",
    "###################### USING NLTK LIBRARY #############################\n",
    "#######################################################################\n",
    "from nltk.tokenize import word_tokenize\n",
    "from nltk.stem.snowball import SnowballStemmer\n",
    "import pandas as pd\n",
    "\n",
    "def processText(text):\n",
    "\n",
    "    # make a list of words split with spaces\n",
    "    textList = text.split()\n",
    "\n",
    "    #convert all words to lower case\n",
    "    for i in range(len(textList)):\n",
    "        textList[i] = textList[i].lower()\n",
    "\n",
    "    #removes Stop words\n",
    "    for t in textList:\n",
    "        if (removeStopWords(t)):\n",
    "            textList.remove(t)\n",
    "    text = ' '.join(textList)\n",
    "\n",
    "    #tokenize by words\n",
    "    words = word_tokenize(text)\n",
    "\n",
    "    #instance of a stemmer\n",
    "    stemmer = SnowballStemmer(\"english\")\n",
    "    stemWords = []\n",
    "\n",
    "\n",
    "    #iterate over all tokenized words to stem and store in list\n",
    "    for t in words:\n",
    "        stemWords.append(stemmer.stem(t))\n",
    "\n",
    "        #return the list of tokenized stem words of the text passed to the method\n",
    "    return stemWords\n",
    "\n",
    "\n",
    "# This method takes a single string word checks it against\n",
    "# a list of substrings to determine whether the word has \n",
    "# any useful information regarding the sentiment of the text.\n",
    "# returns True if word is an email address, username, hashtag or \n",
    "# website else returns False.\n",
    "def removeStopWords(word):\n",
    "\n",
    "    # List of substrings to check if present in the word:\n",
    "    # '@',\".edu\", \".com\" may represent usernames and email addresses \n",
    "    # '#' represents hastags for social media \n",
    "    # 'www.', \"https://\", \".edu\", \".com\" may represent websites\n",
    "    # increased the list by adding stop words from the nltk stop words function\n",
    "    # The nltk stopwords had negations such as not, nor, won't which are not\n",
    "    # considered stopwords in this method\n",
    "    cleaners = [\"@\", \"#\", \"www.\", \"Www.\", \"https://\", \"Https://\" ,  \".edu\", \".com\", 'i', 'me', 'my', 'myself', 'we', 'our', 'ours', 'ourselves', 'you', \"you're\", \"you've\", \"you'll\", \"you'd\", 'your', 'yours', 'yourself', 'yourselves', 'he', 'him', 'his', 'himself', 'she', \"she's\", 'her', 'hers', 'herself', 'it', \"it's\", 'its', 'itself', 'they', 'them', 'their', 'theirs', 'themselves', 'what', 'which', 'who', 'whom', 'this', 'that', \"that'll\", 'these', 'those', 'am', 'is', 'are', 'was', 'were', 'be', 'been', 'being', 'have', 'has', 'had', 'having', 'do', 'does', 'did', 'doing', 'a', 'an', 'the', 'and', 'but', 'if', 'or', 'because', 'as', 'until', 'while', 'of', 'at', 'by', 'for', 'with', 'about', 'against', 'between', 'into', 'through', 'during', 'before', 'after', 'above', 'below', 'to', 'from', 'up', 'down', 'in', 'out', 'on', 'off', 'over', 'under', 'again', 'further', 'then', 'once', 'here', 'there', 'when', 'where', 'why', 'how', 'all', 'any', 'both', 'each', 'few', 'more', 'most', 'other', 'some', 'such','only', 'own', 'same', 'so', 'than', 'too', 'very', 's', 't', 'can', 'will', 'just','ll', 'm', 'o', 're', 've', 'y', 'ma']\n",
    "\n",
    "    #check each subtring if contained in word\n",
    "    for c in cleaners:\n",
    "        #if word contains substring return True\n",
    "        if c in word:\n",
    "            return True\n",
    "\n",
    "    #else return False\n",
    "    return False"
   ]
  },
  {
   "cell_type": "code",
   "execution_count": 11,
   "metadata": {},
   "outputs": [
    {
     "name": "stdout",
     "output_type": "stream",
     "text": [
      "['do', 'feel']\n",
      "do feel \n",
      "[0]\n"
     ]
    }
   ],
   "source": [
    "inputp = 'I do not feel happy'\n",
    "inputpp = processText(inputp)\n",
    "print(inputpp)\n",
    "string_text = \"\"\n",
    "for i in range(len(inputpp)):\n",
    "    string_text = string_text + inputpp[i] + \" \"\n",
    "print(string_text)\n",
    "input_text = ['I feel very sad right now']\n",
    "input_text_vect = cv.transform(input_text)\n",
    "pos_prob = svm.predict(input_text_vect)\n",
    "print(pos_prob)"
   ]
  },
  {
   "cell_type": "code",
   "execution_count": 12,
   "metadata": {},
   "outputs": [],
   "source": [
    "if not os.path.exists(\"pickled_models\"):\n",
    "    os.makedirs(\"pickled_models\")\n",
    "    \n",
    "save_svm = open(\"pickled_models/svm_model.pickle\", \"wb\")\n",
    "pickle.dump(svm, save_svm)\n",
    "save_svm.close()"
   ]
  },
  {
   "cell_type": "code",
   "execution_count": null,
   "metadata": {},
   "outputs": [],
   "source": [
    "\n"
   ]
  },
  {
   "cell_type": "code",
   "execution_count": null,
   "metadata": {},
   "outputs": [],
   "source": []
  },
  {
   "cell_type": "code",
   "execution_count": null,
   "metadata": {},
   "outputs": [],
   "source": []
  }
 ],
 "metadata": {
  "kernelspec": {
   "display_name": "Python 3",
   "language": "python",
   "name": "python3"
  },
  "language_info": {
   "codemirror_mode": {
    "name": "ipython",
    "version": 3
   },
   "file_extension": ".py",
   "mimetype": "text/x-python",
   "name": "python",
   "nbconvert_exporter": "python",
   "pygments_lexer": "ipython3",
   "version": "3.7.2"
  }
 },
 "nbformat": 4,
 "nbformat_minor": 4
}
